{
  "nbformat": 4,
  "nbformat_minor": 0,
  "metadata": {
    "colab": {
      "provenance": [],
      "authorship_tag": "ABX9TyN3NOLQBo+TSANNh8DKZe52",
      "include_colab_link": true
    },
    "kernelspec": {
      "name": "python3",
      "display_name": "Python 3"
    },
    "language_info": {
      "name": "python"
    }
  },
  "cells": [
    {
      "cell_type": "markdown",
      "metadata": {
        "id": "view-in-github",
        "colab_type": "text"
      },
      "source": [
        "<a href=\"https://colab.research.google.com/github/sasansharee/Sasan_MMA_Assisgnments/blob/main/DT_Assignment_4.ipynb\" target=\"_parent\"><img src=\"https://colab.research.google.com/assets/colab-badge.svg\" alt=\"Open In Colab\"/></a>"
      ]
    },
    {
      "cell_type": "markdown",
      "source": [
        "### Early stopping of Gradient Boosting\n",
        "\n",
        "Gradient boosting is an ensembling technique where several weak learners (regression trees) are combined to yield a powerful single model, in an iterative fashion.\n",
        "\n",
        "Early stopping support in Gradient Boosting enables us to find the least number of iterations which is sufficient to build a model that generalizes well to unseen data.\n",
        "\n",
        "The concept of early stopping is simple. We specify a validation_fraction which denotes the fraction of the whole dataset that will be kept aside from training to assess the validation loss of the model. The gradient boosting model is trained using the training set and evaluated using the validation set. When each additional stage of regression tree is added, the validation set is used to score the model. This is continued until the scores of the model in the last n_iter_no_change stages do not improve by atleast tol. After that the model is considered to have converged and further addition of stages is \"stopped early\".\n",
        "\n",
        "The number of stages of the final model is available at the attribute n_estimators_.\n",
        "\n",
        "This example illustrates how the early stopping can used in the :class:~sklearn.ensemble.GradientBoostingClassifier model to achieve almost the same accuracy as compared to a model built without early stopping using many fewer estimators. This can significantly reduce training time, memory usage and prediction latency."
      ],
      "metadata": {
        "id": "D3CQcQLfWXKc"
      }
    },
    {
      "cell_type": "code",
      "source": [
        "import numpy as np\n",
        "import pandas as pd\n",
        "import matplotlib.pyplot as plt\n",
        "import seaborn as sns\n",
        "import time"
      ],
      "metadata": {
        "id": "c6WRIf-cWOMP"
      },
      "execution_count": null,
      "outputs": []
    },
    {
      "cell_type": "code",
      "source": [
        "from sklearn.datasets import load_digits\n",
        "from sklearn.impute import SimpleImputer\n",
        "from sklearn.preprocessing import StandardScaler, OneHotEncoder\n",
        "from sklearn.compose import ColumnTransformer\n",
        "from sklearn.pipeline import Pipeline\n",
        "from sklearn.model_selection import train_test_split\n",
        "from sklearn.ensemble import GradientBoostingClassifier"
      ],
      "metadata": {
        "id": "Q21cPFFDWOP2"
      },
      "execution_count": null,
      "outputs": []
    },
    {
      "cell_type": "markdown",
      "source": [
        "* Load digits data set using load_digits()\n",
        "* Train GradientBoostingCLassifier with and without early stopping\n",
        "* Keep a timer for both cases and report the time it takes to train both models\n",
        "* Report the scores for both models"
      ],
      "metadata": {
        "id": "3fq3rUmJXIsX"
      }
    },
    {
      "cell_type": "code",
      "source": [
        "df = load_digits()"
      ],
      "metadata": {
        "id": "xOAAYqAXWOTf"
      },
      "execution_count": null,
      "outputs": []
    },
    {
      "cell_type": "code",
      "source": [
        "df.keys()"
      ],
      "metadata": {
        "colab": {
          "base_uri": "https://localhost:8080/"
        },
        "id": "l1WO6BE5WOWd",
        "outputId": "5ec57ce5-8294-468b-c5ad-65c007d6857e"
      },
      "execution_count": null,
      "outputs": [
        {
          "output_type": "execute_result",
          "data": {
            "text/plain": [
              "dict_keys(['data', 'target', 'frame', 'feature_names', 'target_names', 'images', 'DESCR'])"
            ]
          },
          "metadata": {},
          "execution_count": 8
        }
      ]
    },
    {
      "cell_type": "code",
      "source": [
        "X = df['data']\n",
        "y = df['target']"
      ],
      "metadata": {
        "id": "Pn1Ee20SWOaX"
      },
      "execution_count": null,
      "outputs": []
    },
    {
      "cell_type": "code",
      "source": [
        "X_train, X_test, y_train, y_test = train_test_split(X, y, random_state = 0)"
      ],
      "metadata": {
        "id": "TsowjMlFWOd-"
      },
      "execution_count": null,
      "outputs": []
    },
    {
      "cell_type": "code",
      "source": [
        "gbc_no_early = GradientBoostingClassifier(n_estimators = 500, random_state = 0)"
      ],
      "metadata": {
        "id": "QzcIhWy5WOhJ"
      },
      "execution_count": null,
      "outputs": []
    },
    {
      "cell_type": "code",
      "source": [
        "gbc_early = GradientBoostingClassifier(n_estimators = 500, validation_fraction = 0.2, n_iter_no_change = 5, tol = 0.01, random_state = 0)"
      ],
      "metadata": {
        "id": "NkBvW0K9WOlR"
      },
      "execution_count": null,
      "outputs": []
    },
    {
      "cell_type": "code",
      "source": [
        "start = time.time()\n",
        "gbc_no_early.fit(X_train, y_train)\n",
        "end = time.time()\n",
        "time_no_early = end - start\n",
        "n_estimators_no_early = gbc_no_early.n_estimators_"
      ],
      "metadata": {
        "id": "5dxqkcUhWOzL"
      },
      "execution_count": null,
      "outputs": []
    },
    {
      "cell_type": "code",
      "source": [
        "gbc_no_early.score(X_train, y_train), gbc_no_early.score(X_test, y_test)"
      ],
      "metadata": {
        "colab": {
          "base_uri": "https://localhost:8080/"
        },
        "id": "ScuzvzUIiV1S",
        "outputId": "767090fd-fc8a-4a0f-bd9c-9f074af1c3fa"
      },
      "execution_count": null,
      "outputs": [
        {
          "output_type": "execute_result",
          "data": {
            "text/plain": [
              "(1.0, 0.96)"
            ]
          },
          "metadata": {},
          "execution_count": 22
        }
      ]
    },
    {
      "cell_type": "code",
      "source": [
        "start = time.time()\n",
        "gbc_early.fit(X_train, y_train)\n",
        "end = time.time()\n",
        "time_early = end - start\n",
        "n_estimators_early = gbc_early.n_estimators_"
      ],
      "metadata": {
        "id": "B_ZCDJ-qWO6w"
      },
      "execution_count": null,
      "outputs": []
    },
    {
      "cell_type": "code",
      "source": [
        "gbc_early.score(X_train, y_train), gbc_early.score(X_test, y_test)"
      ],
      "metadata": {
        "colab": {
          "base_uri": "https://localhost:8080/"
        },
        "id": "u9Nfe924WO-R",
        "outputId": "f48945c9-6776-498c-bada-aa1d904a9deb"
      },
      "execution_count": null,
      "outputs": [
        {
          "output_type": "execute_result",
          "data": {
            "text/plain": [
              "(0.994060876020787, 0.9466666666666667)"
            ]
          },
          "metadata": {},
          "execution_count": 23
        }
      ]
    },
    {
      "cell_type": "code",
      "source": [
        "bars1 = plt.bar(['Without Early Stopping', 'With Early Stopping'], [n_estimators_no_early, n_estimators_early], color = ['blue', 'green'])\n",
        "plt.title('Number of Estimators')\n",
        "plt.ylabel('Number')\n",
        "\n",
        "for bar in bars1:\n",
        "  plt.text(bar.get_x() + bar.get_width()/2, bar.get_height(), int(bar.get_height()), va = 'bottom', ha = 'center')\n"
      ],
      "metadata": {
        "colab": {
          "base_uri": "https://localhost:8080/",
          "height": 452
        },
        "id": "P2PqjA1Bie5R",
        "outputId": "828d05d2-76b2-4c8c-82f1-ff866dcf1342"
      },
      "execution_count": null,
      "outputs": [
        {
          "output_type": "display_data",
          "data": {
            "text/plain": [
              "<Figure size 640x480 with 1 Axes>"
            ],
            "image/png": "[encoded data removed]"
          },
          "metadata": {}
        }
      ]
    },
    {
      "cell_type": "code",
      "source": [
        "bars2 = plt.bar(['Without Early Stopping', 'With Early Stopping'], [time_no_early, time_early], color = ['blue', 'green'])\n",
        "plt.title('Fit Times')\n",
        "plt.ylabel('Time')\n",
        "\n",
        "for bar in bars2:\n",
        "  plt.text(bar.get_x() + bar.get_width()/2, bar.get_height(), f'{int(bar.get_height())} minutes', va = 'bottom', ha = 'center')"
      ],
      "metadata": {
        "colab": {
          "base_uri": "https://localhost:8080/",
          "height": 452
        },
        "id": "rev-TVw9rT-0",
        "outputId": "a0c2eaff-7ec3-4994-cd99-352560498281"
      },
      "execution_count": null,
      "outputs": [
        {
          "output_type": "display_data",
          "data": {
            "text/plain": [
              "<Figure size 640x480 with 1 Axes>"
            ],
            "image/png": "[encoded data removed]"
          },
          "metadata": {}
        }
      ]
    },
    {
      "cell_type": "code",
      "source": [],
      "metadata": {
        "id": "w36gCz1yie9m"
      },
      "execution_count": null,
      "outputs": []
    },
    {
      "cell_type": "code",
      "source": [],
      "metadata": {
        "id": "84YqHeNRifB0"
      },
      "execution_count": null,
      "outputs": []
    },
    {
      "cell_type": "code",
      "source": [],
      "metadata": {
        "id": "CQc4aQ_RifF8"
      },
      "execution_count": null,
      "outputs": []
    },
    {
      "cell_type": "code",
      "source": [],
      "metadata": {
        "id": "bmL_k1OjifJC"
      },
      "execution_count": null,
      "outputs": []
    },
    {
      "cell_type": "code",
      "source": [],
      "metadata": {
        "id": "0zXB5nlzifMT"
      },
      "execution_count": null,
      "outputs": []
    }
  ]
}